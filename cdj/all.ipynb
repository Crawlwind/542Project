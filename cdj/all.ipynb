{
 "cells": [
  {
   "cell_type": "code",
   "execution_count": 80,
   "metadata": {},
   "outputs": [
    {
     "name": "stdout",
     "output_type": "stream",
     "text": [
      "The autoreload extension is already loaded. To reload it, use:\n",
      "  %reload_ext autoreload\n"
     ]
    }
   ],
   "source": [
    "import numpy as np\n",
    "from data_process import get_FASHION_data\n",
    "from scipy.spatial import distance\n",
    "from models import SVM, Softmax, Logistic, Perceptron\n",
    "\n",
    "from sklearn.cluster import KMeans\n",
    "from sklearn.ensemble import RandomForestClassifier, AdaBoostClassifier, GradientBoostingClassifier\n",
    "from sklearn.metrics import accuracy_score, confusion_matrix, ConfusionMatrixDisplay\n",
    "from sklearn.neighbors import KNeighborsClassifier\n",
    "from sklearn.linear_model import LinearRegression, LogisticRegression, LogisticRegressionCV\n",
    "\n",
    "import matplotlib.pyplot as plt\n",
    "%matplotlib inline\n",
    "\n",
    "# For auto-reloading external modules\n",
    "# See http://stackoverflow.com/questions/1907993/autoreload-of-modules-in-ipython\n",
    "%load_ext autoreload\n",
    "%autoreload 2\n"
   ]
  },
  {
   "cell_type": "markdown",
   "metadata": {},
   "source": [
    "# DATASET ANALYSIS"
   ]
  },
  {
   "cell_type": "markdown",
   "metadata": {},
   "source": [
    "### Loading Fashion-MNIST\n",
    "TRAIN_IMAGES + VAL_IMAGES = (0, 60000], TEST_IMAGES = 10000"
   ]
  },
  {
   "cell_type": "code",
   "execution_count": 8,
   "metadata": {},
   "outputs": [],
   "source": [
    "TRAIN_IMAGES = 5000\n",
    "VAL_IMAGES = 1000\n",
    "normalize = True\n",
    "\n",
    "data = get_FASHION_data(TRAIN_IMAGES, VAL_IMAGES, normalize=normalize)\n",
    "X_train, y_train = data['X_train'], data['y_train']\n",
    "X_val, y_val = data['X_val'], data['y_val']\n",
    "X_test, y_test = data['X_test'], data['y_test']\n",
    "n_class_fashion = len(np.unique(y_test))"
   ]
  },
  {
   "cell_type": "markdown",
   "metadata": {},
   "source": [
    "### frequency table"
   ]
  },
  {
   "cell_type": "code",
   "execution_count": 3,
   "metadata": {},
   "outputs": [
    {
     "data": {
      "text/plain": [
       "(50000,)"
      ]
     },
     "execution_count": 3,
     "metadata": {},
     "output_type": "execute_result"
    }
   ],
   "source": [
    "y_train.shape"
   ]
  },
  {
   "cell_type": "markdown",
   "metadata": {},
   "source": [
    "# CLUSTER MODELS"
   ]
  },
  {
   "cell_type": "markdown",
   "metadata": {},
   "source": [
    "- (PCA, PCoA)\n",
    "- K-means\n",
    "- Hierarchical\n",
    "- Self-organizing Maps\n",
    "- Spectral Clustering"
   ]
  },
  {
   "cell_type": "markdown",
   "metadata": {},
   "source": [
    "## K-means"
   ]
  },
  {
   "cell_type": "code",
   "execution_count": null,
   "metadata": {},
   "outputs": [],
   "source": [
    "km = KMeans(10)\n",
    "km.fit(X_train)\n",
    "km_y_test_pred = km.fit_predict(X_test)\n"
   ]
  },
  {
   "cell_type": "markdown",
   "metadata": {},
   "source": [
    "## Hierarchical"
   ]
  },
  {
   "cell_type": "markdown",
   "metadata": {},
   "source": [
    "## Self-organizing Maps (FLY)"
   ]
  },
  {
   "cell_type": "markdown",
   "metadata": {},
   "source": [
    "# CLASSIFICATION MODELS"
   ]
  },
  {
   "cell_type": "code",
   "execution_count": 46,
   "metadata": {},
   "outputs": [
    {
     "name": "stdout",
     "output_type": "stream",
     "text": [
      "test accuracy: 0.8358\n",
      "[[784   3  17  60   4   1 115   0  16   0]\n",
      " [  2 947   9  31   5   0   4   0   2   0]\n",
      " [  9   0 753  10 142   0  79   0   7   0]\n",
      " [ 21   6  15 881  32   0  42   0   3   0]\n",
      " [  0   1 144  41 756   2  51   0   5   0]\n",
      " [  0   0   0   1   0 928   0  44   4  23]\n",
      " [166   2 138  42 117   1 512   0  22   0]\n",
      " [  0   0   0   0   0  26   0 895   0  79]\n",
      " [  0   2   7   3   6   3  19   4 955   1]\n",
      " [  0   0   0   0   0  12   0  38   3 947]]\n",
      "[0.784 0.947 0.753 0.881 0.756 0.928 0.512 0.895 0.955 0.947]\n"
     ]
    }
   ],
   "source": [
    "rf = RandomForestClassifier(n_estimators=200, n_jobs=-1)\n",
    "rf.fit(X_train, y_train)\n",
    "rf_y_test_pred = rf.predict(X_test)"
   ]
  },
  {
   "cell_type": "code",
   "execution_count": 27,
   "metadata": {},
   "outputs": [
    {
     "data": {
      "image/png": "[encoded data removed]",
      "text/plain": [
       "<Figure size 432x288 with 2 Axes>"
      ]
     },
     "metadata": {
      "needs_background": "light"
     },
     "output_type": "display_data"
    }
   ],
   "source": [
    "rf_acc = accuracy_score(y_test, rf_y_test_pred)\n",
    "print(f\"test accuracy: {rf_acc:.4f}\")\n",
    "rf_matrix = confusion_matrix(y_test, rf_y_test_pred)\n",
    "print(rf_matrix)\n",
    "print(rf_matrix.diagonal()/rf_matrix.sum(axis=1))\n",
    "\n",
    "rf_dsp = ConfusionMatrixDisplay(rf_matrix, rf.classes_)\n",
    "rf_dsp.plot()\n",
    "plt.show()"
   ]
  },
  {
   "cell_type": "markdown",
   "metadata": {},
   "source": [
    "## Adaboost"
   ]
  },
  {
   "cell_type": "code",
   "execution_count": 66,
   "metadata": {},
   "outputs": [
    {
     "name": "stdout",
     "output_type": "stream",
     "text": [
      "test accuracy: 0.5060\n"
     ]
    }
   ],
   "source": [
    "ab = AdaBoostClassifier(n_estimators=500, learning_rate=0.01)\n",
    "ab.fit(X_train, y_train)\n",
    "ab_y_test_pred = ab.predict(X_test)\n",
    "ab_acc = accuracy_score(y_test, ab_y_test_pred)\n",
    "print(f\"test accuracy: {ab_acc:.4f}\")"
   ]
  },
  {
   "cell_type": "code",
   "execution_count": 64,
   "metadata": {},
   "outputs": [
    {
     "name": "stdout",
     "output_type": "stream",
     "text": [
      "[[ 18   0   0 619   1   0 340   0  22   0]\n",
      " [  1   5   0 956   0   0  35   0   3   0]\n",
      " [  0   0   5  13  67   0 892   0  23   0]\n",
      " [  0   0   0 854   2   0 140   0   4   0]\n",
      " [  6   0   0  79 286   0 612   0  17   0]\n",
      " [  0   0   0   0   0 869   1   0 108  22]\n",
      " [ 16   0   1 204 112   0 633   0  34   0]\n",
      " [  0   0   0   0   0 952   0   0  34  14]\n",
      " [  0   0   0   6   3   4  91   0 896   0]\n",
      " [  0   0   0   0   0 370   0   0  16 614]]\n",
      "[0.018 0.005 0.005 0.854 0.286 0.869 0.633 0.    0.896 0.614]\n"
     ]
    },
    {
     "data": {
      "text/plain": [
       "<sklearn.metrics._plot.confusion_matrix.ConfusionMatrixDisplay at 0x1de04f23b80>"
      ]
     },
     "execution_count": 64,
     "metadata": {},
     "output_type": "execute_result"
    },
    {
     "data": {
      "image/png": "[encoded data removed]",
      "text/plain": [
       "<Figure size 432x288 with 2 Axes>"
      ]
     },
     "metadata": {
      "needs_background": "light"
     },
     "output_type": "display_data"
    }
   ],
   "source": [
    "ab_matrix = confusion_matrix(y_test, ab_y_test_pred)\n",
    "print(ab_matrix)\n",
    "print(ab_matrix.diagonal()/ab_matrix.sum(axis=1))\n",
    "\n",
    "ConfusionMatrixDisplay.from_predictions(y_test, ab_y_test_pred)"
   ]
  },
  {
   "cell_type": "markdown",
   "metadata": {},
   "source": [
    "## Gradient Boost"
   ]
  },
  {
   "cell_type": "code",
   "execution_count": null,
   "metadata": {},
   "outputs": [],
   "source": [
    "gb = GradientBoostingClassifier()\n",
    "gb.fit(X_train, y_train)\n",
    "gb_y_test_pred = gb.predict(X_test)"
   ]
  },
  {
   "cell_type": "code",
   "execution_count": 49,
   "metadata": {},
   "outputs": [
    {
     "ename": "NameError",
     "evalue": "name 'gb_y_test_pred' is not defined",
     "output_type": "error",
     "traceback": [
      "\u001b[1;31m---------------------------------------------------------------------------\u001b[0m",
      "\u001b[1;31mNameError\u001b[0m                                 Traceback (most recent call last)",
      "\u001b[1;32m~\\AppData\\Local\\Temp/ipykernel_15260/796146584.py\u001b[0m in \u001b[0;36m<module>\u001b[1;34m\u001b[0m\n\u001b[1;32m----> 1\u001b[1;33m \u001b[0mgb_acc\u001b[0m \u001b[1;33m=\u001b[0m \u001b[0maccuracy_score\u001b[0m\u001b[1;33m(\u001b[0m\u001b[0my_test\u001b[0m\u001b[1;33m,\u001b[0m \u001b[0mgb_y_test_pred\u001b[0m\u001b[1;33m)\u001b[0m\u001b[1;33m\u001b[0m\u001b[1;33m\u001b[0m\u001b[0m\n\u001b[0m\u001b[0;32m      2\u001b[0m \u001b[0mprint\u001b[0m\u001b[1;33m(\u001b[0m\u001b[1;34mf\"test accuracy: {gb_acc:.4f}\"\u001b[0m\u001b[1;33m)\u001b[0m\u001b[1;33m\u001b[0m\u001b[1;33m\u001b[0m\u001b[0m\n\u001b[0;32m      3\u001b[0m \u001b[0mgb_matrix\u001b[0m \u001b[1;33m=\u001b[0m \u001b[0mconfusion_matrix\u001b[0m\u001b[1;33m(\u001b[0m\u001b[0my_test\u001b[0m\u001b[1;33m,\u001b[0m \u001b[0mgb_y_test_pred\u001b[0m\u001b[1;33m)\u001b[0m\u001b[1;33m\u001b[0m\u001b[1;33m\u001b[0m\u001b[0m\n\u001b[0;32m      4\u001b[0m \u001b[0mprint\u001b[0m\u001b[1;33m(\u001b[0m\u001b[0mgb_matrix\u001b[0m\u001b[1;33m)\u001b[0m\u001b[1;33m\u001b[0m\u001b[1;33m\u001b[0m\u001b[0m\n\u001b[0;32m      5\u001b[0m \u001b[0mprint\u001b[0m\u001b[1;33m(\u001b[0m\u001b[0mgb_matrix\u001b[0m\u001b[1;33m.\u001b[0m\u001b[0mdiagonal\u001b[0m\u001b[1;33m(\u001b[0m\u001b[1;33m)\u001b[0m\u001b[1;33m/\u001b[0m\u001b[0mgb_matrix\u001b[0m\u001b[1;33m.\u001b[0m\u001b[0msum\u001b[0m\u001b[1;33m(\u001b[0m\u001b[0maxis\u001b[0m\u001b[1;33m=\u001b[0m\u001b[1;36m1\u001b[0m\u001b[1;33m)\u001b[0m\u001b[1;33m)\u001b[0m\u001b[1;33m\u001b[0m\u001b[1;33m\u001b[0m\u001b[0m\n",
      "\u001b[1;31mNameError\u001b[0m: name 'gb_y_test_pred' is not defined"
     ]
    }
   ],
   "source": [
    "gb_acc = accuracy_score(y_test, gb_y_test_pred)\n",
    "print(f\"test accuracy: {gb_acc:.4f}\")\n",
    "gb_matrix = confusion_matrix(y_test, gb_y_test_pred)\n",
    "print(gb_matrix)\n",
    "print(gb_matrix.diagonal()/gb_matrix.sum(axis=1))\n",
    "\n",
    "ConfusionMatrixDisplay(gb_matrix)"
   ]
  },
  {
   "cell_type": "markdown",
   "metadata": {},
   "source": [
    "## Logistic Regression"
   ]
  },
  {
   "cell_type": "code",
   "execution_count": 77,
   "metadata": {},
   "outputs": [
    {
     "name": "stdout",
     "output_type": "stream",
     "text": [
      "test accuracy: 0.7607\n"
     ]
    }
   ],
   "source": [
    "lr = LogisticRegression(max_iter=10000)\n",
    "lr.fit(X_train, y_train)\n",
    "lr_y_test_pred = lr.predict(X_test)\n",
    "lr_acc = accuracy_score(y_test, lr_y_test_pred)\n",
    "print(f\"test accuracy: {lr_acc:.4f}\")"
   ]
  },
  {
   "cell_type": "code",
   "execution_count": 78,
   "metadata": {},
   "outputs": [
    {
     "name": "stdout",
     "output_type": "stream",
     "text": [
      "[[661  12  61  49  12   3 186   1  15   0]\n",
      " [  9 945   4  24   8   0   7   0   3   0]\n",
      " [ 22  18 621  19 151   2 155   0  12   0]\n",
      " [ 62  29  52 737  43   1  69   1   6   0]\n",
      " [  8   5 184  25 654   0 115   0   9   0]\n",
      " [  1   0   4   3   1 848  18  62  14  49]\n",
      " [154   7 144  46 126   1 494   0  28   0]\n",
      " [  0   0   0   1   0  39   5 905   1  49]\n",
      " [ 19   2  41  14  30  22  41   8 820   3]\n",
      " [  1   1   0   0   0  27   3  43   3 922]]\n",
      "[0.661 0.945 0.621 0.737 0.654 0.848 0.494 0.905 0.82  0.922]\n"
     ]
    },
    {
     "data": {
      "text/plain": [
       "<sklearn.metrics._plot.confusion_matrix.ConfusionMatrixDisplay at 0x1de03dfddc0>"
      ]
     },
     "execution_count": 78,
     "metadata": {},
     "output_type": "execute_result"
    },
    {
     "data": {
      "image/png": "[encoded data removed]",
      "text/plain": [
       "<Figure size 432x288 with 2 Axes>"
      ]
     },
     "metadata": {
      "needs_background": "light"
     },
     "output_type": "display_data"
    }
   ],
   "source": [
    "lr_matrix = confusion_matrix(y_test, lr_y_test_pred)\n",
    "print(lr_matrix)\n",
    "print(lr_matrix.diagonal()/lr_matrix.sum(axis=1))\n",
    "\n",
    "ConfusionMatrixDisplay.from_predictions(y_test, lr_y_test_pred)"
   ]
  },
  {
   "cell_type": "markdown",
   "metadata": {},
   "source": [
    "## KNN"
   ]
  },
  {
   "cell_type": "code",
   "execution_count": 82,
   "metadata": {},
   "outputs": [
    {
     "name": "stdout",
     "output_type": "stream",
     "text": [
      "1: 0.7976\n",
      "2: 0.7971\n",
      "3: 0.8008\n",
      "4: 0.8088\n",
      "5: 0.8006\n",
      "6: 0.8032\n",
      "7: 0.7979\n",
      "8: 0.7997\n",
      "9: 0.7968\n",
      "10: 0.7981\n",
      "11: 0.7969\n",
      "12: 0.7977\n",
      "13: 0.7983\n",
      "14: 0.7994\n",
      "15: 0.7967\n",
      "16: 0.7971\n",
      "17: 0.7935\n",
      "18: 0.7931\n",
      "19: 0.7921\n",
      "20: 0.7922\n"
     ]
    }
   ],
   "source": [
    "knn_best = None\n",
    "knn_best_pred = None\n",
    "knn_best_acc = 0\n",
    "knn_acc_lst = np.zeros(20)\n",
    "\n",
    "for i in range(1, 21):\n",
    "    knn = KNeighborsClassifier(n_neighbors=i, n_jobs=-1)\n",
    "    knn.fit(X_train, y_train)\n",
    "    knn_y_test_pred = knn.predict(X_test)\n",
    "    knn_acc = accuracy_score(y_test, knn_y_test_pred)\n",
    "    knn_acc_lst[i-1] = knn_acc\n",
    "    if knn_acc > knn_best_acc:\n",
    "        knn_best_acc = knn_acc\n",
    "        knn_best = knn\n",
    "        knn_best_pred = knn_y_test_pred\n",
    "    print(f\"{i}: {knn_acc:.4f}\")\n",
    "# ConfusionMatrixDisplay.from_predictions(y_test, knn_best_pred)"
   ]
  },
  {
   "cell_type": "code",
   "execution_count": 85,
   "metadata": {},
   "outputs": [
    {
     "data": {
      "text/plain": [
       "Text(0, 0.5, 'test error')"
      ]
     },
     "execution_count": 85,
     "metadata": {},
     "output_type": "execute_result"
    },
    {
     "data": {
      "image/png": "[encoded data removed]",
      "text/plain": [
       "<Figure size 432x288 with 1 Axes>"
      ]
     },
     "metadata": {
      "needs_background": "light"
     },
     "output_type": "display_data"
    }
   ],
   "source": [
    "plt.plot(list(range(1,21)), 1-knn_acc_lst)\n",
    "plt.xlabel(\"k\")\n",
    "plt.ylabel(\"test error\")"
   ]
  },
  {
   "cell_type": "markdown",
   "metadata": {},
   "source": [
    "## SVM with SGD"
   ]
  },
  {
   "cell_type": "code",
   "execution_count": null,
   "metadata": {},
   "outputs": [],
   "source": [
    "# Train\n",
    "lr = 0.5\n",
    "n_epochs = 10\n",
    "reg_const = 0.05\n",
    "\n",
    "svm_fashion = SVM(n_class_fashion, lr, n_epochs, reg_const)\n",
    "svm_fashion.train(X_train, y_train)\n",
    "\n",
    "pred_svm = svm_fashion.predict(X_train)\n",
    "print('The training accuracy is given by: %f' % (get_acc(pred_svm, y_train)))"
   ]
  },
  {
   "cell_type": "code",
   "execution_count": null,
   "metadata": {},
   "outputs": [],
   "source": [
    "# Validate\n",
    "pred_svm = svm_fashion.predict(X_val)\n",
    "print('The validation accuracy is given by: %f' % (get_acc(pred_svm, y_val)))"
   ]
  },
  {
   "cell_type": "code",
   "execution_count": null,
   "metadata": {},
   "outputs": [],
   "source": [
    "# Test\n",
    "pred_svm = svm_fashion.predict(X_test)\n",
    "print('The testing accuracy is given by: %f' % (get_acc(pred_svm, y_test)))"
   ]
  },
  {
   "cell_type": "markdown",
   "metadata": {},
   "source": [
    "## Softmax Classifier (with SGD)"
   ]
  },
  {
   "cell_type": "markdown",
   "metadata": {},
   "source": [
    "- lr, epoch, regularization constant"
   ]
  },
  {
   "cell_type": "code",
   "execution_count": null,
   "metadata": {},
   "outputs": [],
   "source": [
    "# Train\n",
    "lr = 0.5\n",
    "n_epochs = 10\n",
    "reg_const = 0.05\n",
    "\n",
    "svm_fashion = SVM(n_class_fashion, lr, n_epochs, reg_const)\n",
    "svm_fashion.train(X_train, y_train)\n",
    "\n",
    "pred_svm = svm_fashion.predict(X_train)\n",
    "print('The training accuracy is given by: %f' % (get_acc(pred_svm, y_train)))"
   ]
  },
  {
   "cell_type": "code",
   "execution_count": null,
   "metadata": {},
   "outputs": [],
   "source": [
    "# Validate\n",
    "pred_svm = svm_fashion.predict(X_val)\n",
    "print('The validation accuracy is given by: %f' % (get_acc(pred_svm, y_val)))"
   ]
  },
  {
   "cell_type": "code",
   "execution_count": null,
   "metadata": {},
   "outputs": [],
   "source": [
    "# Test\n",
    "pred_svm = svm_fashion.predict(X_test)\n",
    "print('The testing accuracy is given by: %f' % (get_acc(pred_svm, y_test)))"
   ]
  },
  {
   "cell_type": "markdown",
   "metadata": {},
   "source": [
    "## Logistic Classifier"
   ]
  },
  {
   "cell_type": "markdown",
   "metadata": {},
   "source": [
    "- threshold\n",
    "- lr\n",
    "- epochs"
   ]
  },
  {
   "cell_type": "code",
   "execution_count": 71,
   "metadata": {},
   "outputs": [],
   "source": [
    "def get_acc(pred, y_test):\n",
    "    return np.sum(y_test == pred) / len(y_test) * 100"
   ]
  },
  {
   "cell_type": "code",
   "execution_count": 74,
   "metadata": {},
   "outputs": [
    {
     "name": "stdout",
     "output_type": "stream",
     "text": [
      "The training accuracy is given by: 8.580000\n"
     ]
    }
   ],
   "source": [
    "# Train\n",
    "learning_rate = 0.1\n",
    "n_epochs = 100\n",
    "threshold = 0.5\n",
    "\n",
    "lr = Logistic(learning_rate, n_epochs, threshold)\n",
    "lr.train(X_train, y_train)\n",
    "\n",
    "pred_lr = lr.predict(X_train)\n",
    "print('The training accuracy is given by: %f' % (get_acc(pred_lr, y_train)))"
   ]
  },
  {
   "cell_type": "code",
   "execution_count": null,
   "metadata": {},
   "outputs": [],
   "source": [
    "# Validation\n",
    "pred_lr = lr.predict(X_val_MR)\n",
    "print('The validation accuracy is given by: %f' % (get_acc(pred_lr, y_val_MR)))"
   ]
  },
  {
   "cell_type": "code",
   "execution_count": 76,
   "metadata": {},
   "outputs": [
    {
     "name": "stdout",
     "output_type": "stream",
     "text": [
      "The testing accuracy is given by: 9.270000\n"
     ]
    }
   ],
   "source": [
    "# Test\n",
    "pred_lr = lr.predict(X_test)\n",
    "print('The testing accuracy is given by: %f' % (get_acc(pred_lr, y_test)))"
   ]
  },
  {
   "cell_type": "markdown",
   "metadata": {},
   "source": [
    "# ENSEMBLE"
   ]
  },
  {
   "cell_type": "markdown",
   "metadata": {},
   "source": [
    "- KNN + RF + GB + LR\n",
    "- Ramdom forest"
   ]
  },
  {
   "cell_type": "code",
   "execution_count": null,
   "metadata": {},
   "outputs": [],
   "source": []
  }
 ],
 "metadata": {
  "interpreter": {
   "hash": "520fea846e026194a9263b66ef13e8b5356858fa1cc3bdaa3f637d990ac063e0"
  },
  "kernelspec": {
   "display_name": "Python 3.9.12 64-bit (windows store)",
   "language": "python",
   "name": "python3"
  },
  "language_info": {
   "codemirror_mode": {
    "name": "ipython",
    "version": 3
   },
   "file_extension": ".py",
   "mimetype": "text/x-python",
   "name": "python",
   "nbconvert_exporter": "python",
   "pygments_lexer": "ipython3",
   "version": "3.9.12"
  },
  "orig_nbformat": 4
 },
 "nbformat": 4,
 "nbformat_minor": 2
}
