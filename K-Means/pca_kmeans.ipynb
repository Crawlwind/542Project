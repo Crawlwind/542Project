{
 "cells": [
  {
   "cell_type": "markdown",
   "metadata": {},
   "source": [
    "- Data input & preprocessing"
   ]
  },
  {
   "cell_type": "code",
   "execution_count": null,
   "metadata": {},
   "outputs": [],
   "source": [
    "import keras\n",
    "from keras.datasets import fashion_mnist \n",
    "import numpy as np\n",
    "import matplotlib.pyplot as plt\n",
    "from sklearn.preprocessing import StandardScaler\n",
    "from sklearn.cluster import KMeans \n",
    "\n",
    "import plotly as py\n",
    "import plotly.graph_objs as go\n",
    "import plotly.express as px\n",
    "\n",
    "(X_train,y_train), (X_test,y_test) = fashion_mnist.load_data()\n",
    "\n",
    "#Reshapeing X to a 2D array\n",
    "X = X_train.reshape(-1,X_train.shape[1]*X_train.shape[2])\n",
    "y = y_train"
   ]
  },
  {
   "cell_type": "markdown",
   "metadata": {},
   "source": [
    "- PCA"
   ]
  },
  {
   "cell_type": "code",
   "execution_count": null,
   "metadata": {},
   "outputs": [],
   "source": [
    "#PCA\n",
    "Clus_dataSet = StandardScaler().fit_transform(X) #(mean = 0 and variance = 1)\n",
    "\n",
    "from sklearn.decomposition import PCA\n",
    "# Make an instance of the Model\n",
    "variance = 0.98\n",
    "pca = PCA(variance)\n",
    "\n",
    "pca.fit(Clus_dataSet)\n",
    "\n",
    "Clus_dataSet = pca.transform(Clus_dataSet)\n",
    "\n",
    "approximation = pca.inverse_transform(Clus_dataSet)"
   ]
  },
  {
   "cell_type": "markdown",
   "metadata": {},
   "source": [
    "- K-Means"
   ]
  },
  {
   "cell_type": "code",
   "execution_count": null,
   "metadata": {},
   "outputs": [],
   "source": [
    "k_means = KMeans(init = \"k-means++\", n_clusters = 10, n_init = 35)\n",
    "\n",
    "k_means.fit(Clus_dataSet)\n",
    "\n",
    "k_means_labels = k_means.labels_\n",
    "\n",
    "G = len(np.unique(k_means_labels)) #Number of labels\n",
    "\n",
    "\n",
    "#Hitech 2D matrix  for an array of indexes of the given label\n",
    "cluster_index= [[] for i in range(G)]\n",
    "for i, label in enumerate(k_means_labels,0):\n",
    "    for n in range(G):\n",
    "        if label == n:\n",
    "            cluster_index[n].append(i)\n",
    "        else:\n",
    "            continue\n",
    "\n",
    "Y_clust = [[] for i in range(G)]\n",
    "for n in range(G):\n",
    "    Y_clust[n]=y[cluster_index[n]] #Y_clust[0] contains array of answers for the cluster_index[0]\n",
    "    assert(len(Y_clust[n])==len(cluster_index[n]))\n",
    "\n",
    "#counts the number of each category in each cluster\n",
    "def counter(cluster):\n",
    "    unique, counts = np.unique(cluster, return_counts=True)\n",
    "    label_index = dict(zip(unique, counts))\n",
    "    return label_index\n",
    "\n",
    "label_count= [[] for i in range(G)]\n",
    "for n in range(G):\n",
    "    label_count[n] = counter(Y_clust[n])\n",
    "\n",
    "class_names = {0:'T-shirt/top', 1:'Trouser',2: 'Pullover',3: 'Dress',4: 'Coat',5:\n",
    "               'Sandal',6: 'Shirt', 7:'Sneaker',8:  'Bag',9: 'Ankle boot'}\n",
    "\n",
    "def plotter(label_dict):\n",
    "    plt.bar(range(len(label_dict)), list(label_dict.values()), align='center')\n",
    "    a = []\n",
    "    for i in [*label_dict]: a.append(class_names[i])\n",
    "    plt.xticks(range(len(label_dict)), list(a), rotation=45, rotation_mode='anchor')\n",
    "\n",
    "plt.figure(figsize=(20,20))\n",
    "for i in range (1,11):\n",
    "    plt.subplot(5, 2, i)\n",
    "    plotter(label_count[i-1]) \n",
    "    plt.title(\"Cluster\" + str(i-1))\n",
    "\n",
    "\n",
    "#3D Plotly Visualisation of Clusters using go\n",
    "\n",
    "layout = go.Layout(\n",
    "    title='<b>Cluster Visualisation</b>',\n",
    "    yaxis=dict(\n",
    "        title='<i>Y</i>'\n",
    "    ),\n",
    "    xaxis=dict(\n",
    "        title='<i>X</i>'\n",
    "    )\n",
    ")\n",
    "\n",
    "colors = ['red','green' ,'blue','purple','magenta','yellow','cyan','maroon','teal','black']\n",
    "trace = [ go.Scatter3d() for _ in range(11)]\n",
    "for i in range(0,10):\n",
    "    my_members = (k_means_labels == i)\n",
    "    index = [h for h, g in enumerate(my_members) if g]\n",
    "    trace[i] = go.Scatter3d(\n",
    "            x=Clus_dataSet[my_members, 0],\n",
    "            y=Clus_dataSet[my_members, 1],\n",
    "            z=Clus_dataSet[my_members, 2],\n",
    "            mode='markers',\n",
    "            marker = dict(size = 2,color = colors[i]),\n",
    "            hovertext=index,\n",
    "            name='Cluster'+str(i),\n",
    "    #             line=dict(shape='spline')\n",
    "            )\n",
    "\n",
    "    #data.append(trace1)\n",
    "fig = go.Figure(data=[trace[0],trace[1],trace[2],trace[3],trace[4],trace[5],trace[6],trace[7],trace[8],trace[9]], layout=layout)\n",
    "    \n",
    "py.offline.iplot(fig)"
   ]
  }
 ],
 "metadata": {
  "interpreter": {
   "hash": "540ccdaee7addc45c7d9c45855ead294be283883f5c432c72a3c9630d8ce7955"
  },
  "kernelspec": {
   "display_name": "Python 3.9.6 64-bit (system)",
   "language": "python",
   "name": "python3"
  },
  "language_info": {
   "codemirror_mode": {
    "name": "ipython",
    "version": 3
   },
   "file_extension": ".py",
   "mimetype": "text/x-python",
   "name": "python",
   "nbconvert_exporter": "python",
   "pygments_lexer": "ipython3",
   "version": "3.9.6"
  },
  "orig_nbformat": 4
 },
 "nbformat": 4,
 "nbformat_minor": 2
}
